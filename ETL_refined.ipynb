{
 "cells": [
  {
   "cell_type": "code",
   "execution_count": 6,
   "metadata": {},
   "outputs": [],
   "source": [
    "import paramiko\n",
    "import datetime\n",
    "from datetime import datetime, timedelta\n",
    "import os, zipfile\n",
    "import re \n",
    "import os, glob\n",
    "from collections import defaultdict\n",
    "from datetime import datetime\n",
    "import pandas as pd"
   ]
  },
  {
   "cell_type": "code",
   "execution_count": 71,
   "metadata": {},
   "outputs": [
    {
     "name": "stdout",
     "output_type": "stream",
     "text": [
      "50510000_DigitalData_20180809.zip downloaded\n",
      "50510000_DigitalData_20180808.zip downloaded\n",
      "50510000_DigitalData_20180807.zip downloaded\n",
      "50510000_DigitalData_20180806.zip downloaded\n",
      "50510000_DigitalData_20180805.zip downloaded\n",
      "50510000_DigitalData_20180804.zip downloaded\n",
      "50510000_DigitalData_20180803.zip downloaded\n",
      "50510000_DigitalData_20180802.zip downloaded\n"
     ]
    }
   ],
   "source": [
    "\n",
    "\n",
    "# Open a transport\n",
    "host = \"ftp.coremetrics.com\"\n",
    "port = 998\n",
    "transport = paramiko.Transport((host, port))\n",
    "# Auth\n",
    "password = \"-rdGiuDi\"\n",
    "username = \"50510000-export\"\n",
    "transport.connect(username = username, password = password)\n",
    "# Go!\n",
    "sftp = paramiko.SFTPClient.from_transport(transport)\n",
    "\n",
    "# Get all relevant files in SFTP\n",
    "files = []\n",
    "for i in sftp.listdir():\n",
    "    lstatout=str(sftp.lstat(i)).split()[0]\n",
    "    if 'd' not in lstatout:\n",
    "        if 'Trigger' not in i:\n",
    "            files.append(i)\n",
    "\n",
    "# Sort the files in order desc\n",
    "def sort_DDF_data( l ): \n",
    "    convert = lambda text: int(text) if text.isdigit() else text \n",
    "    alphanum_key = lambda key: [ convert(c) for c in re.split('([0-9]+)', key)] \n",
    "    return sorted(l, key = alphanum_key, reverse=True)[0:8]\n",
    "\n",
    "\n",
    "sorted_files = []\n",
    "s = set(files) # make sure no duplicates\n",
    "for x in sort_DDF_data(s):\n",
    "    sorted_files.append(x)\n",
    "\n",
    "#Dowwnload zipped files from SFTP\n",
    "for file in sorted_files:\n",
    "    filepath = file\n",
    "    localpath = '/Users/john.ekedum@ibm.com/Downloads/DDF/' + file\n",
    "    sftp.get(filepath, localpath)\n",
    "    print(file + ' '+ 'downloaded')\n",
    "\n",
    "\n",
    "# Unzip Zpped files\n",
    "dir_name = '/Users/john.ekedum@ibm.com/Downloads/DDF/'\n",
    "extension = \".zip\"\n",
    "\n",
    "os.chdir(dir_name) # change directory from working dir to dir with files\n",
    "\n",
    "for item in os.listdir(dir_name):# loop through items in dir\n",
    "    if item.endswith(extension): # check for \".zip\" extension\n",
    "        file_name = os.path.abspath(dir_name + item) # get full path of files\n",
    "        zip_ref = zipfile.ZipFile(file_name) # create zipfile object\n",
    "        zip_ref.extractall(dir_name + item[0:29]) # extract file to dir\n",
    "        zip_ref.close() # close file\n",
    "        os.remove(file_name) # delete zipped file"
   ]
  },
  {
   "cell_type": "code",
   "execution_count": 7,
   "metadata": {},
   "outputs": [],
   "source": [
    "# loop through file names in directory and  stack them together according filenames \n",
    "dir_name = '/Users/john.ekedum@ibm.com/Downloads/DDF/'\n",
    "list_of_dir=[]\n",
    "for item in os.listdir(dir_name):\n",
    "    list_of_dir.append(r'/Users/john.ekedum@ibm.com/Downloads/DDF/' + item)\n",
    "    \n",
    "dirs = list_of_dir\n",
    "unique_files = defaultdict(list)\n",
    "\n",
    "\n",
    "for file_pattrn in ['Element.txt', 'Geography.txt', 'PageView.txt', 'ConversionEvent.txt', 'TechnicalProperties.txt', 'Registration.txt']:\n",
    "    for d in dirs:\n",
    "        for i in glob.iglob(os.path.join(d, file_pattrn)):\n",
    "            unique_files[os.path.basename(i)].append(i)\n",
    "            \n",
    "destination = '/Users/john.ekedum@ibm.com/Downloads/DDF'\n",
    "for unique_filename, copies in unique_files.items():\n",
    "    with open(os.path.join(destination, unique_filename), 'w') as f:\n",
    "        for copy in copies:\n",
    "            with open(copy, 'r') as cp:\n",
    "                for line in cp:\n",
    "                    f.write(line)"
   ]
  },
  {
   "cell_type": "code",
   "execution_count": 9,
   "metadata": {},
   "outputs": [],
   "source": [
    "path = '/Users/john.ekedum@ibm.com/Downloads/DDF/'"
   ]
  },
  {
   "cell_type": "code",
   "execution_count": 166,
   "metadata": {},
   "outputs": [
    {
     "name": "stderr",
     "output_type": "stream",
     "text": [
      "/Users/john.ekedum@ibm.com/anaconda3/lib/python3.6/site-packages/IPython/core/interactiveshell.py:2728: DtypeWarning: Columns (0,9,13,20,21,22,23,24,25,26,27,28,29,30,31,32,33,34,35,36,37,38,39,40,41,42,43,44,45,46,47,48,49,50,51,52,53,54,55,56,57,58,59,60,61,62,63) have mixed types. Specify dtype option on import or set low_memory=False.\n",
      "  interactivity=interactivity, compiler=compiler, result=result)\n"
     ]
    }
   ],
   "source": [
    "#Page views done\n",
    "df_pageview = pd.read_csv('/Users/john.ekedum@ibm.com/Downloads/DDF/PageView.txt')\n",
    "mask = df_pageview.TIMESTAMP  == 'TIMESTAMP'\n",
    "df_pageview = df_pageview.loc[~mask,::]\n",
    "df_pageview.TIMESTAMP = pd.to_datetime(df_pageview.TIMESTAMP)\n",
    "cols_drop = df_pageview.columns[21:63]\n",
    "df_pageview.drop(cols_drop, axis=1, inplace=True)\n",
    "df_pageview.columns = df_pageview.columns.str.title().str.replace(' ','_')\n",
    "df_pageview.to_csv(os.path.join(path,r'PageView.csv'),index=False)"
   ]
  },
  {
   "cell_type": "code",
   "execution_count": 155,
   "metadata": {},
   "outputs": [
    {
     "data": {
      "text/plain": [
       "array([nan, '63E1BEB9-BC48-4B46-91EF-A4D4E5C697CB',\n",
       "       'CA79E2F2-F17B-4BD6-B3B8-A4F5C69A3BB9', ...,\n",
       "       'D106851B-A2BA-4773-8F93-A09A3302EE6D',\n",
       "       'FA1E99C9-D20D-4232-969A-96094E3C2E4D',\n",
       "       'B3421E14-589E-4877-89DC-B50106171E6A'], dtype=object)"
      ]
     },
     "execution_count": 155,
     "metadata": {},
     "output_type": "execute_result"
    }
   ],
   "source": [
    "df_pageview.Page_View_Attribute_19.unique()\n"
   ]
  },
  {
   "cell_type": "code",
   "execution_count": 179,
   "metadata": {},
   "outputs": [],
   "source": [
    "# Element done\n",
    "df_element = pd.read_csv('/Users/john.ekedum@ibm.com/Downloads/DDF/Element.txt')\n",
    "mask = df_element.TIMESTAMP  == 'TIMESTAMP'\n",
    "df_element = df_element.loc[~mask,::]\n",
    "df_element.TIMESTAMP = pd.to_datetime(df_element.TIMESTAMP)\n",
    "cols_drop = df_element.columns[17:56]\n",
    "df_element.drop(cols_drop, axis=1, inplace=True)\n",
    "df_element.columns = df_element.columns.str.title().str.replace(' ','_')\n",
    "df_element.to_csv(os.path.join(path,r'Element.csv'), index=False)"
   ]
  },
  {
   "cell_type": "code",
   "execution_count": 180,
   "metadata": {},
   "outputs": [
    {
     "data": {
      "text/plain": [
       "Index(['Session_Id', 'Cookie_Id', 'Timestamp', 'Element_Name',\n",
       "       'Element_Category', 'Site_Id', 'Cid', 'Client_Name', 'Username',\n",
       "       'Data_Center', 'Locale', 'Country', 'Subscription_Type', 'Environment',\n",
       "       'Current_Page_Url', 'Referring_Page_Url', 'Element_Attribute_11'],\n",
       "      dtype='object')"
      ]
     },
     "execution_count": 180,
     "metadata": {},
     "output_type": "execute_result"
    }
   ],
   "source": [
    "\n"
   ]
  },
  {
   "cell_type": "code",
   "execution_count": 90,
   "metadata": {},
   "outputs": [
    {
     "name": "stderr",
     "output_type": "stream",
     "text": [
      "/Users/john.ekedum@ibm.com/anaconda3/lib/python3.6/site-packages/IPython/core/interactiveshell.py:2728: DtypeWarning: Columns (0,5,6,8,10,13,14,15,16,17,18,19,20,21,22,23,24,25,26,27,28,29,30,31,32,33,34,35,36,37,38,39,40,41,42,43,44,45,46,47,48,49,50,51,52,53,54,55,56,57) have mixed types. Specify dtype option on import or set low_memory=False.\n",
      "  interactivity=interactivity, compiler=compiler, result=result)\n"
     ]
    }
   ],
   "source": [
    "#Conversion done\n",
    "df_conv = pd.read_csv('/Users/john.ekedum@ibm.com/Downloads/DDF/ConversionEvent.txt')\n",
    "mask = df_conv.SESSION_ID == 'SESSION_ID'\n",
    "df_conv = df_conv.loc[~mask,::]\n",
    "df_conv = df_conv.iloc[::,0:15]\n",
    "df_conv.columns = df_conv.columns.str.title().str.replace(' ','_')\n",
    "df_conv.to_csv(os.path.join(path,r'ConversionEvent.csv'), index=False)\n"
   ]
  },
  {
   "cell_type": "code",
   "execution_count": 91,
   "metadata": {},
   "outputs": [
    {
     "data": {
      "text/html": [
       "<div>\n",
       "<table border=\"1\" class=\"dataframe\">\n",
       "  <thead>\n",
       "    <tr style=\"text-align: right;\">\n",
       "      <th></th>\n",
       "      <th>Session_Id</th>\n",
       "      <th>Cookie_Id</th>\n",
       "      <th>Timestamp</th>\n",
       "      <th>Event_Name</th>\n",
       "      <th>Event_Category</th>\n",
       "      <th>Event_Action_Type</th>\n",
       "      <th>Event_Points</th>\n",
       "      <th>Site_Id</th>\n",
       "      <th>Client_Id</th>\n",
       "      <th>User_Id</th>\n",
       "      <th>Remember_Id_&amp;_User</th>\n",
       "      <th>Locale</th>\n",
       "      <th>Data_Center</th>\n",
       "      <th>Company_Name</th>\n",
       "      <th>Email</th>\n",
       "    </tr>\n",
       "  </thead>\n",
       "  <tbody>\n",
       "    <tr>\n",
       "      <th>0</th>\n",
       "      <td>1898463527422067987</td>\n",
       "      <td>25759794830214857936680</td>\n",
       "      <td>2018-07-24 07:47:31</td>\n",
       "      <td>WELCOME:REPORT LOAD:TOP PAGES</td>\n",
       "      <td>REPORT LOAD</td>\n",
       "      <td>1</td>\n",
       "      <td>0</td>\n",
       "      <td>WELCOME</td>\n",
       "      <td>90301777</td>\n",
       "      <td>SSHRAGO</td>\n",
       "      <td>True</td>\n",
       "      <td>EN_US</td>\n",
       "      <td>US</td>\n",
       "      <td>NaN</td>\n",
       "      <td>NaN</td>\n",
       "    </tr>\n",
       "    <tr>\n",
       "      <th>1</th>\n",
       "      <td>1898463527422067987</td>\n",
       "      <td>25759794830214857936680</td>\n",
       "      <td>2018-07-24 07:46:31</td>\n",
       "      <td>WELCOME:REPORT LOAD:MARKETING PROGRAMS | BY VE...</td>\n",
       "      <td>REPORT LOAD</td>\n",
       "      <td>2</td>\n",
       "      <td>0</td>\n",
       "      <td>WELCOME</td>\n",
       "      <td>90301777</td>\n",
       "      <td>SSHRAGO</td>\n",
       "      <td>True</td>\n",
       "      <td>EN_US</td>\n",
       "      <td>US</td>\n",
       "      <td>2485</td>\n",
       "      <td>NaN</td>\n",
       "    </tr>\n",
       "    <tr>\n",
       "      <th>2</th>\n",
       "      <td>1898463527422067987</td>\n",
       "      <td>25759794830214857936680</td>\n",
       "      <td>2018-07-24 07:47:10</td>\n",
       "      <td>WELCOME:REPORT LOAD:TOP PAGES</td>\n",
       "      <td>REPORT LOAD</td>\n",
       "      <td>1</td>\n",
       "      <td>0</td>\n",
       "      <td>WELCOME</td>\n",
       "      <td>90301777</td>\n",
       "      <td>SSHRAGO</td>\n",
       "      <td>True</td>\n",
       "      <td>EN_US</td>\n",
       "      <td>US</td>\n",
       "      <td>NaN</td>\n",
       "      <td>NaN</td>\n",
       "    </tr>\n",
       "    <tr>\n",
       "      <th>3</th>\n",
       "      <td>1898463527422067987</td>\n",
       "      <td>25759794830214857936680</td>\n",
       "      <td>2018-07-24 07:47:15</td>\n",
       "      <td>WELCOME:REPORT LOAD:TOP PAGES</td>\n",
       "      <td>REPORT LOAD</td>\n",
       "      <td>2</td>\n",
       "      <td>0</td>\n",
       "      <td>WELCOME</td>\n",
       "      <td>90301777</td>\n",
       "      <td>SSHRAGO</td>\n",
       "      <td>True</td>\n",
       "      <td>EN_US</td>\n",
       "      <td>US</td>\n",
       "      <td>5581</td>\n",
       "      <td>NaN</td>\n",
       "    </tr>\n",
       "    <tr>\n",
       "      <th>4</th>\n",
       "      <td>1898463527422067987</td>\n",
       "      <td>25759794830214857936680</td>\n",
       "      <td>2018-07-24 07:46:28</td>\n",
       "      <td>WELCOME:REPORT LOAD:MARKETING PROGRAMS | BY VE...</td>\n",
       "      <td>REPORT LOAD</td>\n",
       "      <td>1</td>\n",
       "      <td>0</td>\n",
       "      <td>WELCOME</td>\n",
       "      <td>90301777</td>\n",
       "      <td>SSHRAGO</td>\n",
       "      <td>True</td>\n",
       "      <td>EN_US</td>\n",
       "      <td>US</td>\n",
       "      <td>NaN</td>\n",
       "      <td>NaN</td>\n",
       "    </tr>\n",
       "  </tbody>\n",
       "</table>\n",
       "</div>"
      ],
      "text/plain": [
       "            Session_Id                Cookie_Id            Timestamp  \\\n",
       "0  1898463527422067987  25759794830214857936680  2018-07-24 07:47:31   \n",
       "1  1898463527422067987  25759794830214857936680  2018-07-24 07:46:31   \n",
       "2  1898463527422067987  25759794830214857936680  2018-07-24 07:47:10   \n",
       "3  1898463527422067987  25759794830214857936680  2018-07-24 07:47:15   \n",
       "4  1898463527422067987  25759794830214857936680  2018-07-24 07:46:28   \n",
       "\n",
       "                                          Event_Name Event_Category  \\\n",
       "0                      WELCOME:REPORT LOAD:TOP PAGES    REPORT LOAD   \n",
       "1  WELCOME:REPORT LOAD:MARKETING PROGRAMS | BY VE...    REPORT LOAD   \n",
       "2                      WELCOME:REPORT LOAD:TOP PAGES    REPORT LOAD   \n",
       "3                      WELCOME:REPORT LOAD:TOP PAGES    REPORT LOAD   \n",
       "4  WELCOME:REPORT LOAD:MARKETING PROGRAMS | BY VE...    REPORT LOAD   \n",
       "\n",
       "  Event_Action_Type Event_Points  Site_Id Client_Id  User_Id  \\\n",
       "0                 1            0  WELCOME  90301777  SSHRAGO   \n",
       "1                 2            0  WELCOME  90301777  SSHRAGO   \n",
       "2                 1            0  WELCOME  90301777  SSHRAGO   \n",
       "3                 2            0  WELCOME  90301777  SSHRAGO   \n",
       "4                 1            0  WELCOME  90301777  SSHRAGO   \n",
       "\n",
       "  Remember_Id_&_User Locale Data_Center Company_Name Email  \n",
       "0               True  EN_US          US          NaN   NaN  \n",
       "1               True  EN_US          US         2485   NaN  \n",
       "2               True  EN_US          US          NaN   NaN  \n",
       "3               True  EN_US          US         5581   NaN  \n",
       "4               True  EN_US          US          NaN   NaN  "
      ]
     },
     "execution_count": 91,
     "metadata": {},
     "output_type": "execute_result"
    }
   ],
   "source": [
    "\n",
    "df_conv.head()"
   ]
  },
  {
   "cell_type": "code",
   "execution_count": 94,
   "metadata": {},
   "outputs": [
    {
     "data": {
      "text/plain": [
       "650659"
      ]
     },
     "execution_count": 94,
     "metadata": {},
     "output_type": "execute_result"
    }
   ],
   "source": [
    "#technical properties"
   ]
  },
  {
   "cell_type": "code",
   "execution_count": 316,
   "metadata": {},
   "outputs": [],
   "source": [
    "df_tech = pd.read_csv('/Users/john.ekedum@ibm.com/Downloads/DDF/TechnicalProperties.txt')\n",
    "mask = df_tech.SESSION_ID == 'SESSION_ID'\n",
    "df_tech = df_tech.loc[~mask,::]\n",
    "df_tech.columns = df_tech.columns.str.title().str.replace(' ','_')\n",
    "df_tech.to_csv(os.path.join(path,r'TechnicalProperties.csv'), index=False)"
   ]
  },
  {
   "cell_type": "code",
   "execution_count": null,
   "metadata": {},
   "outputs": [],
   "source": [
    "#Registration"
   ]
  },
  {
   "cell_type": "code",
   "execution_count": 213,
   "metadata": {},
   "outputs": [
    {
     "name": "stderr",
     "output_type": "stream",
     "text": [
      "/Users/john.ekedum@ibm.com/anaconda3/lib/python3.6/site-packages/IPython/core/interactiveshell.py:2728: DtypeWarning: Columns (0,3,4,6,7,8,9,10,12,21,22,23,24,25,26,27,28,29,30,31,32,33,34,35,36,37,38,39,40,41,42,43,44,45,46,47,48,49,50,51,52,53,54,55,56,57,58,59,60,61,62) have mixed types. Specify dtype option on import or set low_memory=False.\n",
      "  interactivity=interactivity, compiler=compiler, result=result)\n"
     ]
    }
   ],
   "source": [
    "df_reg = pd.read_csv('/Users/john.ekedum@ibm.com/Downloads/DDF/Registration.txt')\n",
    "mask = df_reg.SESSION_ID == 'SESSION_ID'\n",
    "df_reg = df_reg.loc[~mask,::]\n",
    "cols_drop = df_reg.columns[21:63]\n",
    "df_reg.drop(cols_drop, axis=1, inplace=True)\n",
    "df_reg.columns = df_reg.columns.str.title().str.replace(' ','_')\n",
    "df_reg.to_csv(os.path.join(path,r'Registration.csv'), index=False)"
   ]
  },
  {
   "cell_type": "code",
   "execution_count": null,
   "metadata": {},
   "outputs": [],
   "source": [
    "# Geography"
   ]
  },
  {
   "cell_type": "code",
   "execution_count": null,
   "metadata": {},
   "outputs": [],
   "source": [
    "my_file = '/Users/john.ekedum@ibm.com/Downloads/DDF/50510000_DigitalData_20180702/Geography.txt'"
   ]
  },
  {
   "cell_type": "code",
   "execution_count": 247,
   "metadata": {},
   "outputs": [],
   "source": [
    "import numpy as np\n",
    "line2 = np.linspace(801, 809, 9, dtype=int).tolist()\n",
    "line = np.linspace(703, 731, 29 , dtype=int).tolist()\n",
    "for list in line2:\n",
    "    line.append(list)\n",
    "my_file =[]\n",
    "for li in line:\n",
    "    my_file.append('/Users/john.ekedum@ibm.com/Downloads/DDF/50510000_DigitalData_20180' + str(li) + '/Geography.txt')\n",
    "    "
   ]
  },
  {
   "cell_type": "code",
   "execution_count": 257,
   "metadata": {},
   "outputs": [],
   "source": [
    "for names in my_file:\n",
    "    print(names[62:70])[1:2]\n"
   ]
  },
  {
   "cell_type": "code",
   "execution_count": 251,
   "metadata": {},
   "outputs": [],
   "source": [
    "import csv\n",
    "for names in my_file:\n",
    "    with open(names,'r') as csvinput:\n",
    "        with open('/Users/john.ekedum@ibm.com/Downloads/GEO/' + names[42 :70] + '_geo'+ '.csv', 'w') as csvoutput:\n",
    "            writer = csv.writer(csvoutput, lineterminator='\\n')\n",
    "            reader = csv.reader(csvinput)\n",
    "            all = []\n",
    "            row = next(reader)\n",
    "            row.append('Date')\n",
    "            all.append(row)\n",
    "            for row in reader:\n",
    "                row.append(names[62:70])\n",
    "                all.append(row)\n",
    "        \n",
    "            writer.writerows(all)"
   ]
  },
  {
   "cell_type": "code",
   "execution_count": 252,
   "metadata": {},
   "outputs": [
    {
     "data": {
      "text/plain": [
       "['0510000_DigitalData_20180726_geo.csv',\n",
       " '0510000_DigitalData_20180719_geo.csv',\n",
       " '0510000_DigitalData_20180709_geo.csv',\n",
       " '0510000_DigitalData_20180710_geo.csv',\n",
       " '0510000_DigitalData_20180807_geo.csv',\n",
       " '0510000_DigitalData_20180711_geo.csv',\n",
       " '0510000_DigitalData_20180806_geo.csv',\n",
       " '0510000_DigitalData_20180727_geo.csv',\n",
       " '0510000_DigitalData_20180708_geo.csv',\n",
       " '0510000_DigitalData_20180718_geo.csv',\n",
       " '0510000_DigitalData_20180804_geo.csv',\n",
       " '0510000_DigitalData_20180703_geo.csv',\n",
       " '0510000_DigitalData_20180713_geo.csv',\n",
       " '0510000_DigitalData_20180725_geo.csv',\n",
       " '0510000_DigitalData_20180724_geo.csv',\n",
       " '0510000_DigitalData_20180805_geo.csv',\n",
       " '0510000_DigitalData_20180712_geo.csv',\n",
       " '0510000_DigitalData_20180707_geo.csv',\n",
       " '0510000_DigitalData_20180717_geo.csv',\n",
       " '0510000_DigitalData_20180728_geo.csv',\n",
       " '0510000_DigitalData_20180809_geo.csv',\n",
       " '0510000_DigitalData_20180721_geo.csv',\n",
       " '0510000_DigitalData_20180731_geo.csv',\n",
       " '0510000_DigitalData_20180808_geo.csv',\n",
       " '0510000_DigitalData_20180730_geo.csv',\n",
       " '0510000_DigitalData_20180720_geo.csv',\n",
       " '0510000_DigitalData_20180801_geo.csv',\n",
       " '0510000_DigitalData_20180716_geo.csv',\n",
       " '0510000_DigitalData_20180706_geo.csv',\n",
       " '0510000_DigitalData_20180729_geo.csv',\n",
       " '0510000_DigitalData_20180722_geo.csv',\n",
       " '0510000_DigitalData_20180704_geo.csv',\n",
       " '0510000_DigitalData_20180714_geo.csv',\n",
       " '0510000_DigitalData_20180803_geo.csv',\n",
       " 'geo_inner',\n",
       " '0510000_DigitalData_20180715_geo.csv',\n",
       " '0510000_DigitalData_20180705_geo.csv',\n",
       " '0510000_DigitalData_20180802_geo.csv',\n",
       " '0510000_DigitalData_20180723_geo.csv']"
      ]
     },
     "execution_count": 252,
     "metadata": {},
     "output_type": "execute_result"
    }
   ],
   "source": [
    "dir_name2 = '/Users/john.ekedum@ibm.com/Downloads/GEO'\n",
    "file_geo = os.listdir(dir_name2)\n",
    "file_geo.remove('.DS_Store')"
   ]
  },
  {
   "cell_type": "code",
   "execution_count": 262,
   "metadata": {},
   "outputs": [],
   "source": [
    "fout=open(\"/Users/john.ekedum@ibm.com/Downloads/GEO/final.csv\",\"a\")\n",
    "\n",
    "# first file:\n",
    "for lines in open(\"/Users/john.ekedum@ibm.com/Downloads/GEO/0510000_DigitalData_20180703_geo.csv\"):\n",
    "    fout.write(lines)\n",
    "# now the rest:    \n",
    "for num in line[1::]:\n",
    "    f = open(\"/Users/john.ekedum@ibm.com/Downloads/GEO/0510000_DigitalData_20180\"+ str(num) + \"_geo.csv\")\n",
    "    f.__next__()# skip the header\n",
    "    for lines in f:\n",
    "         fout.write(lines)\n",
    "    f.close() # not really needed\n",
    "fout.close()"
   ]
  },
  {
   "cell_type": "code",
   "execution_count": 317,
   "metadata": {},
   "outputs": [
    {
     "name": "stderr",
     "output_type": "stream",
     "text": [
      "/Users/john.ekedum@ibm.com/anaconda3/lib/python3.6/site-packages/IPython/core/interactiveshell.py:2728: DtypeWarning: Columns (0,8) have mixed types. Specify dtype option on import or set low_memory=False.\n",
      "  interactivity=interactivity, compiler=compiler, result=result)\n"
     ]
    }
   ],
   "source": [
    "df_geo = pd.read_csv(\"/Users/john.ekedum@ibm.com/Downloads/GEO/final.csv\")\n",
    "mask = df_geo.SESSION_ID == 'SESSION_ID'\n",
    "df_geo = df_geo.loc[~mask,::]\n",
    "df_geo.columns = df_geo.columns.str.title().str.replace(' ','_')\n",
    "df_geo.Date = df_geo.Date.astype('str')\n",
    "df_geo.Date.str.slice(0,4) + \"-\" + df_geo.Date.str.slice(4,6) + \"-\" + df_geo.Date.str.slice(6,8)\n",
    "df_geo.Date = pd.to_datetime(df_geo.Date)\n",
    "df_geo.to_csv(os.path.join(path,r'Geography.csv'), index=False)"
   ]
  },
  {
   "cell_type": "code",
   "execution_count": 319,
   "metadata": {},
   "outputs": [
    {
     "data": {
      "text/plain": [
       "(478245, 9)"
      ]
     },
     "execution_count": 319,
     "metadata": {},
     "output_type": "execute_result"
    }
   ],
   "source": [
    "df_geo.shape"
   ]
  },
  {
   "cell_type": "code",
   "execution_count": null,
   "metadata": {},
   "outputs": [],
   "source": [
    "schedule.every().schedule.every().monday.at(\"14:00\").do(job)\n",
    "schedule.every().tuesday.at(\"14:00\").do(job)\n",
    "schedule.every().wednesday.at(\"14:00\").do(job)\n",
    "schedule.every().thursday.at(\"14:00\").do(job)\n",
    "schedule.every().friday.at(\"14:00\").do(job)\n",
    "\n",
    "while True:\n",
    "    schedule.run_pending()\n",
    "    time.sleep(1)\n",
    "\n"
   ]
  },
  {
   "cell_type": "code",
   "execution_count": 83,
   "metadata": {},
   "outputs": [
    {
     "name": "stdout",
     "output_type": "stream",
     "text": [
      "Unable to connect to database\n"
     ]
    }
   ],
   "source": [
    "dsn = (\n",
    "    \"DRIVER={0};\"\n",
    "    \"DATABASE={1};\"\n",
    "    \"HOSTNAME={2};\"\n",
    "    \"PORT={3};\"\n",
    "    \"PROTOCOL={4};\"\n",
    "    \"UID={5};\"\n",
    "    \"PWD={6};\").format(dsn_driver, dsn_database, dsn_hostname, dsn_port, dsn_protocol, dsn_uid, dsn_pwd)\n",
    "\n",
    "try:\n",
    "    conn = ibm_db.connect(dsn, \"\", \"\")\n",
    "    print (\"Connected!\")\n",
    "\n",
    "except:\n",
    "    print (\"Unable to connect to database\")\n"
   ]
  },
  {
   "cell_type": "code",
   "execution_count": null,
   "metadata": {},
   "outputs": [],
   "source": []
  }
 ],
 "metadata": {
  "kernelspec": {
   "display_name": "Python 3",
   "language": "python",
   "name": "python3"
  },
  "language_info": {
   "codemirror_mode": {
    "name": "ipython",
    "version": 3
   },
   "file_extension": ".py",
   "mimetype": "text/x-python",
   "name": "python",
   "nbconvert_exporter": "python",
   "pygments_lexer": "ipython3",
   "version": "3.6.4"
  }
 },
 "nbformat": 4,
 "nbformat_minor": 2
}
